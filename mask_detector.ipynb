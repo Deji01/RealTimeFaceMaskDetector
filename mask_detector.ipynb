{
 "cells": [
  {
   "cell_type": "markdown",
   "id": "416eece1",
   "metadata": {},
   "source": [
    "# Train Mask Detector"
   ]
  },
  {
   "cell_type": "markdown",
   "id": "9749e165",
   "metadata": {},
   "source": [
    "### importing  packages"
   ]
  },
  {
   "cell_type": "code",
   "execution_count": 8,
   "id": "f3470a56",
   "metadata": {},
   "outputs": [],
   "source": [
    "from tensorflow.keras.preprocessing.image import ImageDataGenerator\n",
    "from tensorflow.keras.applications import MobileNetV2\n",
    "from tensorflow.keras.layers import AveragePooling2D\n",
    "from tensorflow.keras.layers import Dropout\n",
    "from tensorflow.keras.layers import Flatten\n",
    "from tensorflow.keras.layers import Dense\n",
    "from tensorflow.keras.layers import Input\n",
    "from tensorflow.keras.models import Model\n",
    "from tensorflow.keras.optimizers import Adam\n",
    "from tensorflow.keras.applications.mobilenet_v2 import preprocess_input\n",
    "from tensorflow.keras.preprocessing.image import img_to_array\n",
    "from tensorflow.keras.preprocessing.image import load_img\n",
    "from tensorflow.keras.utils import to_categorical\n",
    "from sklearn.preprocessing import LabelBinarizer\n",
    "from sklearn.model_selection import train_test_split\n",
    "from sklearn.metrics import classification_report\n",
    "from imutils import paths\n",
    "import matplotlib.pyplot as plt\n",
    "import numpy as np\n",
    "import os"
   ]
  },
  {
   "cell_type": "markdown",
   "id": "ca6c2399",
   "metadata": {},
   "source": [
    "### initializing the initial learning rate, number of epochs to train for, and batch size"
   ]
  },
  {
   "cell_type": "code",
   "execution_count": 9,
   "id": "2216cdbc",
   "metadata": {},
   "outputs": [],
   "source": [
    "INIT_LR = 1e-4\n",
    "EPOCHS = 20\n",
    "BS = 32\n",
    "\n",
    "DIRECTORY = r\"C:\\Users\\SOLA\\Downloads\\Dejavu\\New\\Freelance Project\\New folder\\Face-Mask-Detection\\dataset\"\n",
    "CATEGORIES = [\"with_mask\", \"without_mask\"]"
   ]
  },
  {
   "cell_type": "markdown",
   "id": "910acfc7",
   "metadata": {},
   "source": [
    "### grabbing the list of images, initializing the list of data (i.e., images) and class images"
   ]
  },
  {
   "cell_type": "code",
   "execution_count": 10,
   "id": "a60fa4f3",
   "metadata": {},
   "outputs": [
    {
     "name": "stdout",
     "output_type": "stream",
     "text": [
      "[INFO] loading images...\n"
     ]
    },
    {
     "name": "stderr",
     "output_type": "stream",
     "text": [
      "C:\\Users\\SOLA\\anaconda3\\lib\\site-packages\\PIL\\Image.py:962: UserWarning: Palette images with Transparency expressed in bytes should be converted to RGBA images\n",
      "  warnings.warn(\n"
     ]
    }
   ],
   "source": [
    "print(\"[INFO] loading images...\")\n",
    "\n",
    "data = []\n",
    "labels = []\n",
    "\n",
    "for category in CATEGORIES:\n",
    "    path = os.path.join(DIRECTORY, category)\n",
    "    for img in os.listdir(path):\n",
    "        img_path = os.path.join(path, img)\n",
    "        image = load_img(img_path, target_size=(224, 224))\n",
    "        image = img_to_array(image)\n",
    "        image = preprocess_input(image)\n",
    "\n",
    "        data.append(image)\n",
    "        labels.append(category)"
   ]
  },
  {
   "cell_type": "markdown",
   "id": "e12cd0f8",
   "metadata": {},
   "source": [
    "### performing one-hot encoding on the labels"
   ]
  },
  {
   "cell_type": "code",
   "execution_count": 11,
   "id": "612cf7c9",
   "metadata": {},
   "outputs": [],
   "source": [
    "lb = LabelBinarizer()\n",
    "labels = lb.fit_transform(labels)\n",
    "labels = to_categorical(labels)\n",
    "\n",
    "data = np.array(data, dtype=\"float32\")\n",
    "labels = np.array(labels)\n",
    "\n",
    "(trainX, testX, trainY, testY) = train_test_split(data, labels,test_size=0.20, stratify=labels, random_state=42)"
   ]
  },
  {
   "cell_type": "markdown",
   "id": "36c164f7",
   "metadata": {},
   "source": [
    "### constructing the training image generator for data augmentation"
   ]
  },
  {
   "cell_type": "code",
   "execution_count": 12,
   "id": "74af8141",
   "metadata": {},
   "outputs": [],
   "source": [
    "aug = ImageDataGenerator(\n",
    "    rotation_range=20,\n",
    "    zoom_range=0.15,\n",
    "    width_shift_range=0.2,\n",
    "    height_shift_range=0.2,\n",
    "    shear_range=0.15,\n",
    "    horizontal_flip=True,\n",
    "    fill_mode=\"nearest\")"
   ]
  },
  {
   "cell_type": "code",
   "execution_count": 13,
   "id": "a5763c06",
   "metadata": {},
   "outputs": [
    {
     "name": "stdout",
     "output_type": "stream",
     "text": [
      "WARNING:tensorflow:`input_shape` is undefined or non-square, or `rows` is not in [96, 128, 160, 192, 224]. Weights for input shape (224, 224) will be loaded as the default.\n",
      "Downloading data from https://storage.googleapis.com/tensorflow/keras-applications/mobilenet_v2/mobilenet_v2_weights_tf_dim_ordering_tf_kernels_1.0_224_no_top.h5\n",
      "9412608/9406464 [==============================] - 15s 2us/step\n"
     ]
    }
   ],
   "source": [
    "# loading the MobileNetV2 network, ensuring the head FC layer sets are left off\n",
    "baseModel = MobileNetV2(weights=\"imagenet\", include_top=False, input_tensor=Input(shape=(224, 224, 3)))"
   ]
  },
  {
   "cell_type": "markdown",
   "id": "4d28b621",
   "metadata": {},
   "source": [
    "### constructing the head of the model which will be placed on top of the base model"
   ]
  },
  {
   "cell_type": "code",
   "execution_count": 14,
   "id": "23e6bca5",
   "metadata": {},
   "outputs": [],
   "source": [
    "headModel = baseModel.output\n",
    "headModel = AveragePooling2D(pool_size=(7, 7))(headModel)\n",
    "headModel = Flatten(name=\"flatten\")(headModel)\n",
    "headModel = Dense(128, activation=\"relu\")(headModel)\n",
    "headModel = Dropout(0.5)(headModel)\n",
    "headModel = Dense(2, activation=\"softmax\")(headModel)"
   ]
  },
  {
   "cell_type": "code",
   "execution_count": 15,
   "id": "969f9dff",
   "metadata": {},
   "outputs": [],
   "source": [
    "# placing the head FC model on top of the base model (this will become the actual model that is trained)\n",
    "model = Model(inputs=baseModel.input, outputs=headModel)"
   ]
  },
  {
   "cell_type": "code",
   "execution_count": 16,
   "id": "2c42730c",
   "metadata": {},
   "outputs": [],
   "source": [
    "# looping over all layers in the base model and then freezing them so they will *not* be updated during the first training process\n",
    "for layer in baseModel.layers:\n",
    "    layer.trainable = False"
   ]
  },
  {
   "cell_type": "code",
   "execution_count": 17,
   "id": "54fd9b3b",
   "metadata": {},
   "outputs": [
    {
     "name": "stdout",
     "output_type": "stream",
     "text": [
      "[INFO] compiling model...\n"
     ]
    }
   ],
   "source": [
    "# compiling the model\n",
    "print(\"[INFO] compiling model...\")\n",
    "opt = Adam(lr=INIT_LR, decay=INIT_LR / EPOCHS)\n",
    "model.compile(loss=\"binary_crossentropy\", optimizer=opt,\n",
    "    metrics=[\"accuracy\"])"
   ]
  },
  {
   "cell_type": "markdown",
   "id": "4b6d16ee",
   "metadata": {},
   "source": [
    "### training the head of the network"
   ]
  },
  {
   "cell_type": "code",
   "execution_count": 18,
   "id": "5abca174",
   "metadata": {
    "scrolled": true
   },
   "outputs": [
    {
     "name": "stdout",
     "output_type": "stream",
     "text": [
      "[INFO] training head...\n",
      "Epoch 1/20\n",
      "95/95 [==============================] - 1165s 12s/step - loss: 0.3053 - accuracy: 0.8708 - val_loss: 0.0818 - val_accuracy: 0.9844\n",
      "Epoch 2/20\n",
      "95/95 [==============================] - 2219s 23s/step - loss: 0.1029 - accuracy: 0.9647 - val_loss: 0.0549 - val_accuracy: 0.9844\n",
      "Epoch 3/20\n",
      "95/95 [==============================] - 18115s 191s/step - loss: 0.0766 - accuracy: 0.9736 - val_loss: 0.0505 - val_accuracy: 0.9870\n",
      "Epoch 4/20\n",
      "95/95 [==============================] - 1184s 12s/step - loss: 0.0657 - accuracy: 0.9779 - val_loss: 0.0351 - val_accuracy: 0.9935\n",
      "Epoch 5/20\n",
      "95/95 [==============================] - 1143s 12s/step - loss: 0.0469 - accuracy: 0.9832 - val_loss: 0.0318 - val_accuracy: 0.9922\n",
      "Epoch 6/20\n",
      "95/95 [==============================] - 1128s 12s/step - loss: 0.0524 - accuracy: 0.9809 - val_loss: 0.0390 - val_accuracy: 0.9896\n",
      "Epoch 7/20\n",
      "95/95 [==============================] - 30316s 319s/step - loss: 0.0412 - accuracy: 0.9868 - val_loss: 0.0343 - val_accuracy: 0.9909\n",
      "Epoch 8/20\n",
      "95/95 [==============================] - 1256s 13s/step - loss: 0.0435 - accuracy: 0.9848 - val_loss: 0.0288 - val_accuracy: 0.9922\n",
      "Epoch 9/20\n",
      "95/95 [==============================] - 1695s 18s/step - loss: 0.0327 - accuracy: 0.9885 - val_loss: 0.0291 - val_accuracy: 0.9909\n",
      "Epoch 10/20\n",
      "95/95 [==============================] - 1302s 14s/step - loss: 0.0333 - accuracy: 0.9875 - val_loss: 0.0288 - val_accuracy: 0.9896\n",
      "Epoch 11/20\n",
      "95/95 [==============================] - 1057s 11s/step - loss: 0.0326 - accuracy: 0.9908 - val_loss: 0.0273 - val_accuracy: 0.9909\n",
      "Epoch 12/20\n",
      "95/95 [==============================] - 1288s 14s/step - loss: 0.0293 - accuracy: 0.9888 - val_loss: 0.0310 - val_accuracy: 0.9909\n",
      "Epoch 13/20\n",
      "95/95 [==============================] - 1061s 11s/step - loss: 0.0311 - accuracy: 0.9898 - val_loss: 0.0265 - val_accuracy: 0.9909\n",
      "Epoch 14/20\n",
      "95/95 [==============================] - 1080s 11s/step - loss: 0.0316 - accuracy: 0.9881 - val_loss: 0.0310 - val_accuracy: 0.9896\n",
      "Epoch 15/20\n",
      "95/95 [==============================] - 2200s 23s/step - loss: 0.0287 - accuracy: 0.9898 - val_loss: 0.0273 - val_accuracy: 0.9909\n",
      "Epoch 16/20\n",
      "95/95 [==============================] - 1269s 13s/step - loss: 0.0253 - accuracy: 0.9911 - val_loss: 0.0342 - val_accuracy: 0.9883\n",
      "Epoch 17/20\n",
      "95/95 [==============================] - 1167s 12s/step - loss: 0.0234 - accuracy: 0.9914 - val_loss: 0.0316 - val_accuracy: 0.9896\n",
      "Epoch 18/20\n",
      "95/95 [==============================] - 1301s 14s/step - loss: 0.0205 - accuracy: 0.9941 - val_loss: 0.0276 - val_accuracy: 0.9909\n",
      "Epoch 19/20\n",
      "95/95 [==============================] - 1414s 15s/step - loss: 0.0263 - accuracy: 0.9914 - val_loss: 0.0396 - val_accuracy: 0.9896\n",
      "Epoch 20/20\n",
      "95/95 [==============================] - 1541s 16s/step - loss: 0.0202 - accuracy: 0.9937 - val_loss: 0.0249 - val_accuracy: 0.9922\n"
     ]
    }
   ],
   "source": [
    "print(\"[INFO] training head...\")\n",
    "H = model.fit(\n",
    "    aug.flow(trainX, trainY, batch_size=BS),\n",
    "    steps_per_epoch=len(trainX) // BS,\n",
    "    validation_data=(testX, testY),\n",
    "    validation_steps=len(testX) // BS,\n",
    "    epochs=EPOCHS)"
   ]
  },
  {
   "cell_type": "code",
   "execution_count": 19,
   "id": "c7db1e4f",
   "metadata": {},
   "outputs": [
    {
     "name": "stdout",
     "output_type": "stream",
     "text": [
      "[INFO] evaluating network...\n"
     ]
    }
   ],
   "source": [
    "# making predictions on the testing set\n",
    "print(\"[INFO] evaluating network...\")\n",
    "predIdxs = model.predict(testX, batch_size=BS)"
   ]
  },
  {
   "cell_type": "code",
   "execution_count": 20,
   "id": "36f4428a",
   "metadata": {},
   "outputs": [],
   "source": [
    "# for each image in the testing set we need to find the index of the label with corresponding largest predicted probability\n",
    "predIdxs = np.argmax(predIdxs, axis=1)"
   ]
  },
  {
   "cell_type": "code",
   "execution_count": 21,
   "id": "56b7bc01",
   "metadata": {},
   "outputs": [
    {
     "name": "stdout",
     "output_type": "stream",
     "text": [
      "              precision    recall  f1-score   support\n",
      "\n",
      "   with_mask       0.99      0.99      0.99       383\n",
      "without_mask       0.99      0.99      0.99       384\n",
      "\n",
      "    accuracy                           0.99       767\n",
      "   macro avg       0.99      0.99      0.99       767\n",
      "weighted avg       0.99      0.99      0.99       767\n",
      "\n"
     ]
    }
   ],
   "source": [
    "# showing a nicely formatted classification report\n",
    "print(classification_report(testY.argmax(axis=1), predIdxs, target_names=lb.classes_))"
   ]
  },
  {
   "cell_type": "code",
   "execution_count": 22,
   "id": "61257c83",
   "metadata": {},
   "outputs": [
    {
     "name": "stdout",
     "output_type": "stream",
     "text": [
      "[INFO] saving mask detector model...\n"
     ]
    }
   ],
   "source": [
    "# serializing the model to disk\n",
    "print(\"[INFO] saving mask detector model...\")\n",
    "model.save(\"mask_detector.model\", save_format=\"h5\")"
   ]
  },
  {
   "cell_type": "markdown",
   "id": "adc97f98",
   "metadata": {},
   "source": [
    "### plotting the training loss and accuracy"
   ]
  },
  {
   "cell_type": "code",
   "execution_count": 23,
   "id": "47dd326b",
   "metadata": {},
   "outputs": [
    {
     "data": {
      "image/png": "[encoded data removed]",
      "text/plain": [
       "<Figure size 432x288 with 1 Axes>"
      ]
     },
     "metadata": {},
     "output_type": "display_data"
    }
   ],
   "source": [
    "N = EPOCHS\n",
    "plt.style.use(\"ggplot\")\n",
    "plt.figure()\n",
    "plt.plot(np.arange(0, N), H.history[\"loss\"], label=\"train_loss\")\n",
    "plt.plot(np.arange(0, N), H.history[\"val_loss\"], label=\"val_loss\")\n",
    "plt.plot(np.arange(0, N), H.history[\"accuracy\"], label=\"train_acc\")\n",
    "plt.plot(np.arange(0, N), H.history[\"val_accuracy\"], label=\"val_acc\")\n",
    "plt.title(\"Training Loss and Accuracy\")\n",
    "plt.xlabel(\"Epoch #\")\n",
    "plt.ylabel(\"Loss/Accuracy\")\n",
    "plt.legend(loc=\"lower left\")\n",
    "plt.savefig(\"plot.png\")"
   ]
  }
 ],
 "metadata": {
  "kernelspec": {
   "display_name": "Python 3",
   "language": "python",
   "name": "python3"
  },
  "language_info": {
   "codemirror_mode": {
    "name": "ipython",
    "version": 3
   },
   "file_extension": ".py",
   "mimetype": "text/x-python",
   "name": "python",
   "nbconvert_exporter": "python",
   "pygments_lexer": "ipython3",
   "version": "3.8.8"
  }
 },
 "nbformat": 4,
 "nbformat_minor": 5
}
